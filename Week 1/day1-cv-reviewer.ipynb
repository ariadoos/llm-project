{
 "cells": [
  {
   "cell_type": "markdown",
   "metadata": {},
   "source": [
    "# CV Reviewer\n",
    "\n",
    "Use openai to summarize the feedback from the cv review. \n",
    "\n",
    "## First LLM Project\n",
    "\n",
    "This is the simple script from the [llm_engineering week 1 day 1](https://github.com/ed-donner/llm_engineering) task to quickly summarize the feedback of the CV using the OPENAI API. \n",
    "It uses the cv.pdf file from the assets folder on root. Similary you can pass any path of the pdf to get your cv reviewed. \n",
    "\n",
    "_The output of the summary can be found at the bottom._\n"
   ]
  },
  {
   "cell_type": "code",
   "execution_count": null,
   "metadata": {},
   "outputs": [],
   "source": [
    "import os\n",
    "import pdfplumber\n",
    "from dotenv import load_dotenv\n",
    "from openai import OpenAI\n",
    "from IPython.display import Markdown, display"
   ]
  },
  {
   "cell_type": "code",
   "execution_count": null,
   "metadata": {},
   "outputs": [],
   "source": [
    "def get_cv_contents(path):\n",
    "    with pdfplumber.open(path) as pdf:\n",
    "        cv_contents = ''\n",
    "        for page in pdf.pages:\n",
    "            cv_contents += page.extract_text()\n",
    "    return cv_contents"
   ]
  },
  {
   "cell_type": "code",
   "execution_count": null,
   "metadata": {},
   "outputs": [],
   "source": [
    "# load environment variable\n",
    "load_dotenv()\n",
    "api_key = os.getenv('OPENAI_API_KEY')\n",
    "\n",
    "# Check the key\n",
    "if not api_key:\n",
    "    print(\"No API key was found - please head over to the troubleshooting notebook in this folder to identify & fix!\")\n",
    "elif not api_key.startswith(\"sk-proj-\"):\n",
    "    print(\"An API key was found, but it doesn't start sk-proj-; please check you're using the right key - see troubleshooting notebook\")\n",
    "elif api_key.strip() != api_key:\n",
    "    print(\"An API key was found, but it looks like it might have space or tab characters at the start or end - please remove them - see troubleshooting notebook\")\n",
    "else:\n",
    "    print(\"API key found and looks good so far!\")"
   ]
  },
  {
   "cell_type": "code",
   "execution_count": null,
   "metadata": {},
   "outputs": [],
   "source": [
    "# OpenAI client\n",
    "openai = OpenAI()"
   ]
  },
  {
   "cell_type": "code",
   "execution_count": null,
   "metadata": {},
   "outputs": [],
   "source": [
    "# system prompt\n",
    "system_prompt = \"You are a CV reviewer \\\n",
    "      Your task is to give review the CV and give feedback on each section of CV for the improvement For examples. \\\n",
    "          - If there is summary section, then it should include What interests most, and what are goals for next role and future career? If there is work or previous work experiences section, then give or rephrase the sentence to highlight the measurable outcomes of his/her work.\"\n"
   ]
  },
  {
   "cell_type": "code",
   "execution_count": null,
   "metadata": {},
   "outputs": [],
   "source": [
    "# user prompt\n",
    "def get_user_prompt(contents):\n",
    "    user_prompt = \"You are looking at the CV. Please provide a short summary of the ways that can improved in CV. The output if summary should be in markdown. \\\n",
    "        The extracted texts of the CV are given belows. \\n\"\n",
    "    user_prompt += contents\n",
    "    return user_prompt"
   ]
  },
  {
   "cell_type": "code",
   "execution_count": null,
   "metadata": {},
   "outputs": [],
   "source": [
    "def messages_for(contents):\n",
    "    return [\n",
    "        {\"role\": \"system\", \"content\": system_prompt},\n",
    "        {\"role\": \"user\", \"content\": get_user_prompt(contents)}\n",
    "    ]"
   ]
  },
  {
   "cell_type": "code",
   "execution_count": null,
   "metadata": {},
   "outputs": [],
   "source": [
    "def review_cv(path):\n",
    "    contents = get_cv_contents(path)\n",
    "    response = openai.chat.completions.create(\n",
    "        model = \"gpt-4o-mini\",\n",
    "        messages = messages_for(contents)\n",
    "    )\n",
    "\n",
    "    return response.choices[0].message.content"
   ]
  },
  {
   "cell_type": "code",
   "execution_count": null,
   "metadata": {},
   "outputs": [],
   "source": [
    "def review_and_display_summary(path):\n",
    "    review_summary = review_cv(path)\n",
    "    display(Markdown(review_summary))"
   ]
  },
  {
   "cell_type": "code",
   "execution_count": null,
   "metadata": {},
   "outputs": [
    {
     "data": {
      "text/markdown": [
       "# CV Improvement Summary\n",
       "\n",
       "Here are several suggestions for enhancing various sections of the CV:\n",
       "\n",
       "## Contact Information\n",
       "- Ensure clarity and format consistency. Consider adding a LinkedIn profile URL if available.\n",
       "\n",
       "## Summary Section \n",
       "- **Improvement Needed:** Add a summary section that clearly outlines what you are most interested in and your goals for the next role and future career.\n",
       "- **Example Addition:** \"Passionate about developing innovative software solutions that enhance user experience and drive business success. Looking to leverage my expertise in full-stack development in a challenging role where I can contribute to large-scale projects and continue to advance my career in software engineering.\"\n",
       "\n",
       "## Work Experience \n",
       "- **Improvement Needed:** Emphasize measurable outcomes in bullets to better showcase impact.\n",
       "- **Example Rephrasing:**\n",
       "  - \"Created an innovative feature for the flagship product, leading to a 71% increase in Q1 earnings by facilitating simultaneous purchases for over 50 high-net-worth individuals.\"\n",
       "  - \"Designed and implemented over 20 software applications based on user needs, improving efficiency rates by X% (if data is available).\"\n",
       "  - \"Introduced a RESTful API using Flask/Python accessed by 2800+ developers, enhancing data security and efficiency.\"\n",
       "  - \"Resolved critical issues that prevented an estimated $850K loss through the identification of mobile application flaws affecting 90+ banks.\"\n",
       "\n",
       "## Skills \n",
       "- **Improvement Needed:** Structure the skills section more clearly, perhaps categorizing hard skills, tools/software, and languages more effectively.\n",
       "- **Example Format:**\n",
       "  - **Hard Skills:** Computer Programming, Software Testing, Debugging, etc.\n",
       "  - **Tools & Software:** .NET Framework, AngularJS, C++, Node.js, etc.\n",
       "  - **Languages:** English (Native), Romanian (Native), Spanish (Conversational).\n",
       "\n",
       "## Education \n",
       "- **Improvement Needed:** Include any honors, certifications, relevant coursework, or projects that highlight relevant skills or experiences.\n",
       "- **Example Addition:** If applicable, mention any specific programming languages or tools learned during the course.\n",
       "\n",
       "## Other Certifications\n",
       "- **Improvement Needed:** Clarify the relevance of certifications. Add the full name or issuing organization where possible to improve clarity.\n",
       "- **Example Addition:** \"Certified Software Engineer, [Issuing Organization], [Year]\"\n",
       "\n",
       "## Previous Experience \n",
       "- **Improvement Needed:** Consider adding a brief description or key achievements for each position held to highlight relevant experience.\n",
       "- **Example Addition:** \"Sales Engineer, ABC Company, London, UK - Successfully developed client relationships, contributing to a 20% boost in quarterly sales.\"\n",
       "\n",
       "By incorporating these improvements, the CV can better demonstrate qualifications, achievements, and aspirations, ultimately improving the overall effectiveness in landing desired roles."
      ],
      "text/plain": [
       "<IPython.core.display.Markdown object>"
      ]
     },
     "metadata": {},
     "output_type": "display_data"
    }
   ],
   "source": [
    "review_and_display_summary('../assets/cv.pdf')"
   ]
  }
 ],
 "metadata": {
  "kernelspec": {
   "display_name": "venv",
   "language": "python",
   "name": "python3"
  },
  "language_info": {
   "codemirror_mode": {
    "name": "ipython",
    "version": 3
   },
   "file_extension": ".py",
   "mimetype": "text/x-python",
   "name": "python",
   "nbconvert_exporter": "python",
   "pygments_lexer": "ipython3",
   "version": "3.12.7"
  }
 },
 "nbformat": 4,
 "nbformat_minor": 2
}
