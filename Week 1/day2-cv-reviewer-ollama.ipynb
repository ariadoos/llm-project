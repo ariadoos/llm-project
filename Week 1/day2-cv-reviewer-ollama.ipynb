{
 "cells": [
  {
   "cell_type": "markdown",
   "metadata": {},
   "source": [
    "# CV reviewer using open source model Ollama\n",
    "\n",
    "Here day1 jupyter file of CV reviewer is updated to use an Open source model running locally via Ollama instead of OPENAI API.\n",
    "\n",
    "It was obvious that open source ollama model would lag far behind compared to OpenAI paid version. xD\n",
    "\n",
    "_The output of the summary can be found at the bottom._"
   ]
  },
  {
   "cell_type": "code",
   "execution_count": 11,
   "metadata": {},
   "outputs": [],
   "source": [
    "# imports\n",
    "\n",
    "import requests\n",
    "from IPython.display import Markdown, display\n",
    "import pdfplumber"
   ]
  },
  {
   "cell_type": "code",
   "execution_count": 2,
   "metadata": {},
   "outputs": [],
   "source": [
    "# Constants\n",
    "\n",
    "OLLAMA_API = \"http://localhost:11434/api/chat\"\n",
    "HEADERS = { \"Content-Type\": \"application/json\"}\n",
    "MODEL = \"llama3.2\""
   ]
  },
  {
   "cell_type": "code",
   "execution_count": 3,
   "metadata": {},
   "outputs": [],
   "source": [
    "def get_cv_contents(path):\n",
    "    with pdfplumber.open(path) as pdf:\n",
    "        cv_contents = ''\n",
    "        for page in pdf.pages:\n",
    "            cv_contents += page.extract_text()\n",
    "    return cv_contents"
   ]
  },
  {
   "cell_type": "code",
   "execution_count": 4,
   "metadata": {},
   "outputs": [],
   "source": [
    "# system prompt\n",
    "system_prompt = \"You are a CV reviewer \\\n",
    "      Your task is to give review the CV and give feedback on each section of CV for the improvement For examples. \\\n",
    "          - If there is summary section, then it should include What interests most, and what are goals for next role and future career? If there is work or previous work experiences section, then give or rephrase the sentence to highlight the measurable outcomes of his/her work.\""
   ]
  },
  {
   "cell_type": "code",
   "execution_count": 5,
   "metadata": {},
   "outputs": [],
   "source": [
    "# user prompt\n",
    "def get_user_prompt(contents):\n",
    "    user_prompt = \"You are looking at the CV. Please provide a short summary of the ways that can improved in CV. The output if summary should be in markdown. \\\n",
    "        The extracted texts of the CV are given belows. \\n\"\n",
    "    user_prompt += contents\n",
    "    return user_prompt"
   ]
  },
  {
   "cell_type": "code",
   "execution_count": 6,
   "metadata": {},
   "outputs": [],
   "source": [
    "def messages_for(contents):\n",
    "    return [\n",
    "        {\"role\": \"system\", \"content\": system_prompt},\n",
    "        {\"role\": \"user\", \"content\": get_user_prompt(contents)}\n",
    "    ]"
   ]
  },
  {
   "cell_type": "code",
   "execution_count": null,
   "metadata": {},
   "outputs": [],
   "source": [
    "def review_cv(path):\n",
    "    contents = get_cv_contents(path)\n",
    "    payload = {\n",
    "        \"model\": MODEL,\n",
    "        \"messages\": messages_for(contents),\n",
    "        \"stream\": False\n",
    "    }\n",
    "\n",
    "    response = requests.post(\n",
    "        OLLAMA_API,\n",
    "        json=payload,\n",
    "        headers=HEADERS\n",
    "    )\n",
    "    return response.json()['message']['content']"
   ]
  },
  {
   "cell_type": "code",
   "execution_count": 8,
   "metadata": {},
   "outputs": [],
   "source": [
    "def review_and_display_summary(path):\n",
    "    review_summary = review_cv(path)\n",
    "    display(Markdown(review_summary))"
   ]
  },
  {
   "cell_type": "code",
   "execution_count": 9,
   "metadata": {},
   "outputs": [
    {
     "data": {
      "text/markdown": [
       "Here is a summary of the ways that can be improved in this CV:\n",
       "\n",
       "**Summary**\n",
       "*   **Lack of clarity**: The CV could benefit from a clearer and more concise summary statement that highlights the candidate's most significant achievements and career goals.\n",
       "*   **No clear career progression**: The work experience section jumps between various roles, making it challenging to understand how the candidate has progressed in their career.\n",
       "*   **Overemphasis on technical skills**: While highlighting technical skills is essential, the CV could benefit from a more balanced approach that showcases soft skills and achievements.\n",
       "*   **Inconsistent formatting**: Some sections of the CV, such as the work experience section, have inconsistent formatting, which can make it difficult to read.\n",
       "\n",
       "**Specific suggestions for improvement**\n",
       "\n",
       "*   Add a summary statement at the beginning of the CV that highlights the candidate's most significant achievements and career goals. For example:\n",
       "\n",
       "      *   \"Results-driven software engineer with 8+ years of experience in developing innovative features and leading cross-functional teams. Proven track record of increasing revenue and improving efficiency through technical expertise and strategic planning.\"\n",
       "*   Organize the work experience section to clearly show how the candidate has progressed in their career. Consider grouping similar roles together or using bullet points to highlight achievements.\n",
       "*   Balance the emphasis on technical skills by including more information about soft skills, such as communication, teamwork, and problem-solving abilities.\n",
       "*   Use consistent formatting throughout the CV, especially in sections like work experience and education.\n",
       "\n",
       "**Additional recommendations**\n",
       "\n",
       "*   **Tailor the CV**: Customize the CV for each job application to highlight relevant skills and experiences.\n",
       "*   **Use action verbs**: Use action verbs like \"created,\" \"developed,\" \"optimized,\" and \"improved\" to describe achievements and responsibilities.\n",
       "*   **Include quantifiable results**: Where possible, include specific numbers or metrics to demonstrate the impact of the candidate's work."
      ],
      "text/plain": [
       "<IPython.core.display.Markdown object>"
      ]
     },
     "metadata": {},
     "output_type": "display_data"
    }
   ],
   "source": [
    "review_and_display_summary('../assets/cv.pdf')"
   ]
  }
 ],
 "metadata": {
  "kernelspec": {
   "display_name": "venv",
   "language": "python",
   "name": "python3"
  },
  "language_info": {
   "codemirror_mode": {
    "name": "ipython",
    "version": 3
   },
   "file_extension": ".py",
   "mimetype": "text/x-python",
   "name": "python",
   "nbconvert_exporter": "python",
   "pygments_lexer": "ipython3",
   "version": "3.12.7"
  }
 },
 "nbformat": 4,
 "nbformat_minor": 2
}
